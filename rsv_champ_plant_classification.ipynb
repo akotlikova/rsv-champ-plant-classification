{
  "nbformat": 4,
  "nbformat_minor": 0,
  "metadata": {
    "colab": {
      "provenance": [],
      "authorship_tag": "ABX9TyODPWh2r+FUqSCusRWbxk3t"
    },
    "kernelspec": {
      "name": "python3",
      "display_name": "Python 3"
    },
    "language_info": {
      "name": "python"
    }
  },
  "cells": [
    {
      "cell_type": "code",
      "execution_count": null,
      "metadata": {
        "id": "aFLEP-UbtA6P"
      },
      "outputs": [],
      "source": []
    }
  ]
}